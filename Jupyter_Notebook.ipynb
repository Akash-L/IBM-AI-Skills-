{
 "cells": [
  {
   "cell_type": "markdown",
   "metadata": {},
   "source": [
    "<center>\n",
    "    <img src=\"https://s3-api.us-geo.objectstorage.softlayer.net/cf-courses-data/CognitiveClass/Logos/organization_logo/organization_logo.png\" width=\"300\" alt=\"cognitiveclass.ai logo\"  />\n",
    "</center>\n"
   ]
  },
  {
   "cell_type": "markdown",
   "metadata": {},
   "source": [
    "# My Jupyter Notebook on IBM Watson Studio"
   ]
  },
  {
   "cell_type": "markdown",
   "metadata": {},
   "source": [
    "## **Akash Lakshman**\n",
    "### Business Analyst"
   ]
  },
  {
   "cell_type": "markdown",
   "metadata": {},
   "source": [
    "#### Add your code below following the instructions given in the course\n"
   ]
  },
  {
   "cell_type": "markdown",
   "metadata": {},
   "source": [
    "*I am interested in Data Science because I am very passionate about investigating Data and finding hidden stories that solve modern day business problems across various domains. Its challenging and is a very growing area with a lot of scope in terms of future innovations and career growth. \n",
    "Being a curious & visual minded person I think it is an ideal field for me to venture into and keep playing around with data and figuring out ground breaking insights.*"
   ]
  },
  {
   "cell_type": "markdown",
   "metadata": {},
   "source": [
    "### The code cell below add 2 sets of numbers and assigns it to 2 variables, a & b. Then the values of a & b are multiplied and stored in a 3 variable c which is then printed as output."
   ]
  },
  {
   "cell_type": "code",
   "execution_count": 7,
   "metadata": {},
   "outputs": [
    {
     "name": "stdout",
     "output_type": "stream",
     "text": [
      "8\n"
     ]
    }
   ],
   "source": [
    "#Code snippet\n",
    "a=1+1\n",
    "b=2+2\n",
    "c=a*b \n",
    "print(c)"
   ]
  },
  {
   "cell_type": "markdown",
   "metadata": {},
   "source": [
    "<hr>\n",
    "\n",
    "**Bulleted List**\n",
    "\n",
    "* Item 1\n",
    "* Item 2\n",
    "* Item 3\n",
    "\n",
    "<hr>\n",
    "\n",
    "**Numbered List**\n",
    "\n",
    "1. Item 4\n",
    "2. Item 5\n",
    "3. Item 6\n",
    "\n",
    "<hr>\n",
    "\n",
    "**TABLE**\n",
    "\n",
    "| header | header | header |\n",
    "| ------ | ------ | ------ |\n",
    "| cell | cell | cell |\n",
    "| cell | cell | cell |\n",
    "| cell | cell | cell |\n",
    "| cell | cell | cell |\n",
    "\n",
    "<hr>\n",
    "\n",
    "**Hyperlinks**\n",
    "\n",
    "IBM Cloud Gallery link : <a href=\"https://dataplatform.cloud.ibm.com/gallery\">IBM Cloud Gallery</a>\n",
    "<br>\n",
    "IBM Ireland link : <a hre=\"https://www.ibm.com/ie-en\">IBM Ireland</a>\n",
    "\n",
    "<hr>\n",
    "\n",
    "**Image**\n",
    "\n",
    "<center>\n",
    "    <img src=\"https://www.ibm.com/brand/experience-guides/developer/b1db1ae501d522a1a4b49613fe07c9f1/01_8-bar-positive.svg\" width=\"300\" alt=\"IBM Logo\"  />\n",
    "</center>\n",
    "\n",
    "<hr>\n",
    "\n",
    "`Code syntax highlighting`\n",
    "\n",
    "<hr>\n",
    "\n",
    "> This is a blockquote\n",
    "\n",
    "<hr>\n",
    "\n",
    "~~Scratch this~~\n",
    "\n",
    "<hr>"
   ]
  },
  {
   "cell_type": "code",
   "execution_count": null,
   "metadata": {},
   "outputs": [],
   "source": []
  }
 ],
 "metadata": {
  "kernelspec": {
   "display_name": "Python",
   "language": "python",
   "name": "conda-env-python-py"
  },
  "language_info": {
   "codemirror_mode": {
    "name": "ipython",
    "version": 3
   },
   "file_extension": ".py",
   "mimetype": "text/x-python",
   "name": "python",
   "nbconvert_exporter": "python",
   "pygments_lexer": "ipython3",
   "version": "3.7.12"
  }
 },
 "nbformat": 4,
 "nbformat_minor": 4
}
